{
 "cells": [
  {
   "cell_type": "code",
   "execution_count": 1,
   "metadata": {},
   "outputs": [],
   "source": [
    "import numpy as np\n",
    "import pandas as pd\n",
    "import matplotlib.pyplot as plt\n",
    "import matplotlib.image as mpimg\n",
    "import os\n",
    "\n",
    "\n",
    "import gc"
   ]
  },
  {
   "cell_type": "code",
   "execution_count": 2,
   "metadata": {},
   "outputs": [],
   "source": [
    "# Read and View the data"
   ]
  },
  {
   "cell_type": "code",
   "execution_count": 3,
   "metadata": {},
   "outputs": [],
   "source": [
    "df = pd.read_csv('/home/miguel/Apps/Data_Science_Python_GIT/10_Teste2_DeeperSystems/train.csv')"
   ]
  },
  {
   "cell_type": "code",
   "execution_count": 4,
   "metadata": {},
   "outputs": [
    {
     "data": {
      "text/html": [
       "<div>\n",
       "<style scoped>\n",
       "    .dataframe tbody tr th:only-of-type {\n",
       "        vertical-align: middle;\n",
       "    }\n",
       "\n",
       "    .dataframe tbody tr th {\n",
       "        vertical-align: top;\n",
       "    }\n",
       "\n",
       "    .dataframe thead th {\n",
       "        text-align: right;\n",
       "    }\n",
       "</style>\n",
       "<table border=\"1\" class=\"dataframe\">\n",
       "  <thead>\n",
       "    <tr style=\"text-align: right;\">\n",
       "      <th></th>\n",
       "      <th>fn</th>\n",
       "      <th>label</th>\n",
       "    </tr>\n",
       "  </thead>\n",
       "  <tbody>\n",
       "    <tr>\n",
       "      <th>0</th>\n",
       "      <td>0-10049200_1891-09-16_1958.jpg</td>\n",
       "      <td>rotated_left</td>\n",
       "    </tr>\n",
       "    <tr>\n",
       "      <th>1</th>\n",
       "      <td>0-10110600_1985-09-17_2012.jpg</td>\n",
       "      <td>rotated_left</td>\n",
       "    </tr>\n",
       "    <tr>\n",
       "      <th>2</th>\n",
       "      <td>0-10126400_1964-07-07_2010.jpg</td>\n",
       "      <td>upright</td>\n",
       "    </tr>\n",
       "    <tr>\n",
       "      <th>3</th>\n",
       "      <td>0-1013900_1917-10-15_1960.jpg</td>\n",
       "      <td>rotated_right</td>\n",
       "    </tr>\n",
       "    <tr>\n",
       "      <th>4</th>\n",
       "      <td>0-10166400_1960-03-12_2008.jpg</td>\n",
       "      <td>upside_down</td>\n",
       "    </tr>\n",
       "  </tbody>\n",
       "</table>\n",
       "</div>"
      ],
      "text/plain": [
       "                               fn          label\n",
       "0  0-10049200_1891-09-16_1958.jpg   rotated_left\n",
       "1  0-10110600_1985-09-17_2012.jpg   rotated_left\n",
       "2  0-10126400_1964-07-07_2010.jpg        upright\n",
       "3   0-1013900_1917-10-15_1960.jpg  rotated_right\n",
       "4  0-10166400_1960-03-12_2008.jpg    upside_down"
      ]
     },
     "execution_count": 4,
     "metadata": {},
     "output_type": "execute_result"
    }
   ],
   "source": [
    "# Check data\n",
    "df.head(5)"
   ]
  },
  {
   "cell_type": "code",
   "execution_count": 5,
   "metadata": {},
   "outputs": [
    {
     "data": {
      "text/html": [
       "<div>\n",
       "<style scoped>\n",
       "    .dataframe tbody tr th:only-of-type {\n",
       "        vertical-align: middle;\n",
       "    }\n",
       "\n",
       "    .dataframe tbody tr th {\n",
       "        vertical-align: top;\n",
       "    }\n",
       "\n",
       "    .dataframe thead th {\n",
       "        text-align: right;\n",
       "    }\n",
       "</style>\n",
       "<table border=\"1\" class=\"dataframe\">\n",
       "  <thead>\n",
       "    <tr style=\"text-align: right;\">\n",
       "      <th></th>\n",
       "      <th>fn</th>\n",
       "      <th>label</th>\n",
       "    </tr>\n",
       "  </thead>\n",
       "  <tbody>\n",
       "    <tr>\n",
       "      <th>48891</th>\n",
       "      <td>89-9693789_1941-01-11_1973.jpg</td>\n",
       "      <td>upright</td>\n",
       "    </tr>\n",
       "    <tr>\n",
       "      <th>48892</th>\n",
       "      <td>89-9719989_1985-04-13_2004.jpg</td>\n",
       "      <td>rotated_left</td>\n",
       "    </tr>\n",
       "    <tr>\n",
       "      <th>48893</th>\n",
       "      <td>89-981289_1962-12-23_2009.jpg</td>\n",
       "      <td>rotated_left</td>\n",
       "    </tr>\n",
       "    <tr>\n",
       "      <th>48894</th>\n",
       "      <td>89-9921189_1983-11-25_2013.jpg</td>\n",
       "      <td>rotated_left</td>\n",
       "    </tr>\n",
       "    <tr>\n",
       "      <th>48895</th>\n",
       "      <td>89-9954489_1927-03-13_1977.jpg</td>\n",
       "      <td>rotated_right</td>\n",
       "    </tr>\n",
       "  </tbody>\n",
       "</table>\n",
       "</div>"
      ],
      "text/plain": [
       "                                   fn          label\n",
       "48891  89-9693789_1941-01-11_1973.jpg        upright\n",
       "48892  89-9719989_1985-04-13_2004.jpg   rotated_left\n",
       "48893   89-981289_1962-12-23_2009.jpg   rotated_left\n",
       "48894  89-9921189_1983-11-25_2013.jpg   rotated_left\n",
       "48895  89-9954489_1927-03-13_1977.jpg  rotated_right"
      ]
     },
     "execution_count": 5,
     "metadata": {},
     "output_type": "execute_result"
    }
   ],
   "source": [
    "# Check data\n",
    "df.tail(5)"
   ]
  },
  {
   "cell_type": "code",
   "execution_count": 6,
   "metadata": {},
   "outputs": [
    {
     "data": {
      "text/plain": [
       "48896"
      ]
     },
     "execution_count": 6,
     "metadata": {},
     "output_type": "execute_result"
    }
   ],
   "source": [
    "len(df)\n",
    "# 48mil imagens pra treino"
   ]
  },
  {
   "cell_type": "code",
   "execution_count": 7,
   "metadata": {},
   "outputs": [],
   "source": [
    "# View some images"
   ]
  },
  {
   "cell_type": "code",
   "execution_count": 8,
   "metadata": {},
   "outputs": [
    {
     "data": {
      "image/png": "[encoded data removed]",
      "text/plain": [
       "<matplotlib.figure.Figure at 0x7f10164c21d0>"
      ]
     },
     "metadata": {
      "needs_background": "light"
     },
     "output_type": "display_data"
    },
    {
     "name": "stdout",
     "output_type": "stream",
     "text": [
      "(64, 64, 3)\n"
     ]
    }
   ],
   "source": [
    "for img in df['fn'][0:1]:\n",
    "    img = mpimg.imread('/home/miguel/Apps/Data_Science_Python_GIT/10_Teste2_DeeperSystems/train/'+img)\n",
    "    imgplot = plt.imshow(img)\n",
    "    plt.show()\n",
    "    print(img.shape)"
   ]
  },
  {
   "cell_type": "code",
   "execution_count": 11,
   "metadata": {},
   "outputs": [
    {
     "data": {
      "text/plain": [
       "(array(['rotated_left', 'upright', 'rotated_right', 'upside_down'],\n",
       "       dtype=object), 4)"
      ]
     },
     "execution_count": 11,
     "metadata": {},
     "output_type": "execute_result"
    }
   ],
   "source": [
    "class_ = df['label'].unique()\n",
    "class_,len(class_)"
   ]
  },
  {
   "cell_type": "code",
   "execution_count": 12,
   "metadata": {},
   "outputs": [
    {
     "data": {
      "text/plain": [
       "(array([0, 0, 1, ..., 0, 0, 2]),\n",
       " Index(['rotated_left', 'upright', 'rotated_right', 'upside_down'], dtype='object'))"
      ]
     },
     "execution_count": 12,
     "metadata": {},
     "output_type": "execute_result"
    }
   ],
   "source": [
    "# Factorize, ao invez de criar uma função\n",
    "# para substituir os nomes por índices\n",
    "# use FACTORIZE\n",
    "\n",
    "# FONTE https://stackoverflow.com/questions/42320834/sklearn-changing-string-class-label-to-int\n",
    "\n",
    "pd.factorize(df['label'])"
   ]
  },
  {
   "cell_type": "code",
   "execution_count": 13,
   "metadata": {},
   "outputs": [],
   "source": [
    "# Veja como funciona\n",
    "df['number'] = pd.factorize(df['label'])[0]"
   ]
  },
  {
   "cell_type": "code",
   "execution_count": 16,
   "metadata": {
    "scrolled": true
   },
   "outputs": [
    {
     "data": {
      "text/html": [
       "<div>\n",
       "<style scoped>\n",
       "    .dataframe tbody tr th:only-of-type {\n",
       "        vertical-align: middle;\n",
       "    }\n",
       "\n",
       "    .dataframe tbody tr th {\n",
       "        vertical-align: top;\n",
       "    }\n",
       "\n",
       "    .dataframe thead th {\n",
       "        text-align: right;\n",
       "    }\n",
       "</style>\n",
       "<table border=\"1\" class=\"dataframe\">\n",
       "  <thead>\n",
       "    <tr style=\"text-align: right;\">\n",
       "      <th></th>\n",
       "      <th>fn</th>\n",
       "      <th>label</th>\n",
       "      <th>number</th>\n",
       "    </tr>\n",
       "  </thead>\n",
       "  <tbody>\n",
       "    <tr>\n",
       "      <th>0</th>\n",
       "      <td>0-10049200_1891-09-16_1958.jpg</td>\n",
       "      <td>rotated_left</td>\n",
       "      <td>0</td>\n",
       "    </tr>\n",
       "    <tr>\n",
       "      <th>1</th>\n",
       "      <td>0-10110600_1985-09-17_2012.jpg</td>\n",
       "      <td>rotated_left</td>\n",
       "      <td>0</td>\n",
       "    </tr>\n",
       "    <tr>\n",
       "      <th>2</th>\n",
       "      <td>0-10126400_1964-07-07_2010.jpg</td>\n",
       "      <td>upright</td>\n",
       "      <td>1</td>\n",
       "    </tr>\n",
       "    <tr>\n",
       "      <th>3</th>\n",
       "      <td>0-1013900_1917-10-15_1960.jpg</td>\n",
       "      <td>rotated_right</td>\n",
       "      <td>2</td>\n",
       "    </tr>\n",
       "    <tr>\n",
       "      <th>4</th>\n",
       "      <td>0-10166400_1960-03-12_2008.jpg</td>\n",
       "      <td>upside_down</td>\n",
       "      <td>3</td>\n",
       "    </tr>\n",
       "    <tr>\n",
       "      <th>5</th>\n",
       "      <td>0-102100_1970-10-09_2008.jpg</td>\n",
       "      <td>rotated_left</td>\n",
       "      <td>0</td>\n",
       "    </tr>\n",
       "    <tr>\n",
       "      <th>6</th>\n",
       "      <td>0-1024100_1982-06-07_2011.jpg</td>\n",
       "      <td>rotated_left</td>\n",
       "      <td>0</td>\n",
       "    </tr>\n",
       "  </tbody>\n",
       "</table>\n",
       "</div>"
      ],
      "text/plain": [
       "                               fn          label  number\n",
       "0  0-10049200_1891-09-16_1958.jpg   rotated_left       0\n",
       "1  0-10110600_1985-09-17_2012.jpg   rotated_left       0\n",
       "2  0-10126400_1964-07-07_2010.jpg        upright       1\n",
       "3   0-1013900_1917-10-15_1960.jpg  rotated_right       2\n",
       "4  0-10166400_1960-03-12_2008.jpg    upside_down       3\n",
       "5    0-102100_1970-10-09_2008.jpg   rotated_left       0\n",
       "6   0-1024100_1982-06-07_2011.jpg   rotated_left       0"
      ]
     },
     "execution_count": 16,
     "metadata": {},
     "output_type": "execute_result"
    }
   ],
   "source": [
    "df.head(7)\n",
    "# Rotated_lef ->0\n",
    "# Roated_right -> 2\n",
    "# upright -> 1\n",
    "# upside_down ->3"
   ]
  },
  {
   "cell_type": "code",
   "execution_count": 17,
   "metadata": {
    "scrolled": false
   },
   "outputs": [
    {
     "name": "stdout",
     "output_type": "stream",
     "text": [
      "rotated_left --> 0\n",
      "upright --> 1\n",
      "rotated_right --> 2\n",
      "upside_down --> 3\n"
     ]
    }
   ],
   "source": [
    "# To see this:\n",
    "for label,number in zip(df['label'].unique(),df['number'].unique()):\n",
    "    print(label,'-->',number)"
   ]
  },
  {
   "cell_type": "code",
   "execution_count": 18,
   "metadata": {},
   "outputs": [],
   "source": [
    "def process_img(img):\n",
    "    x = []\n",
    "    for image in img:\n",
    "        x.append(mpimg.imread('/home/miguel/Apps/Data_Science_Python_GIT/10_Teste2_DeeperSystems/train/'+image))\n",
    "    return x\n",
    "                 "
   ]
  },
  {
   "cell_type": "code",
   "execution_count": 42,
   "metadata": {},
   "outputs": [
    {
     "ename": "NameError",
     "evalue": "name 'df' is not defined",
     "output_type": "error",
     "traceback": [
      "\u001b[0;31m----------------------------------------------------------------------\u001b[0m",
      "\u001b[0;31mNameError\u001b[0m                            Traceback (most recent call last)",
      "\u001b[0;32m<ipython-input-42-8128a7946e9c>\u001b[0m in \u001b[0;36m<module>\u001b[0;34m\u001b[0m\n\u001b[0;32m----> 1\u001b[0;31m \u001b[0mx\u001b[0m \u001b[0;34m=\u001b[0m \u001b[0mprocess_img\u001b[0m\u001b[0;34m(\u001b[0m\u001b[0mdf\u001b[0m\u001b[0;34m[\u001b[0m\u001b[0;34m'fn'\u001b[0m\u001b[0;34m]\u001b[0m\u001b[0;34m[\u001b[0m\u001b[0;36m0\u001b[0m\u001b[0;34m:\u001b[0m\u001b[0;36m1000\u001b[0m\u001b[0;34m]\u001b[0m\u001b[0;34m)\u001b[0m\u001b[0;34m\u001b[0m\u001b[0;34m\u001b[0m\u001b[0m\n\u001b[0m\u001b[1;32m      2\u001b[0m \u001b[0my\u001b[0m \u001b[0;34m=\u001b[0m \u001b[0mdf\u001b[0m\u001b[0;34m[\u001b[0m\u001b[0;34m'number'\u001b[0m\u001b[0;34m]\u001b[0m\u001b[0;34m[\u001b[0m\u001b[0;36m0\u001b[0m\u001b[0;34m:\u001b[0m\u001b[0;36m1000\u001b[0m\u001b[0;34m]\u001b[0m\u001b[0;34m\u001b[0m\u001b[0;34m\u001b[0m\u001b[0m\n\u001b[1;32m      3\u001b[0m \u001b[0;34m\u001b[0m\u001b[0m\n\u001b[1;32m      4\u001b[0m \u001b[0mx\u001b[0m \u001b[0;34m=\u001b[0m \u001b[0mnp\u001b[0m\u001b[0;34m.\u001b[0m\u001b[0marray\u001b[0m\u001b[0;34m(\u001b[0m\u001b[0mx\u001b[0m\u001b[0;34m)\u001b[0m\u001b[0;34m\u001b[0m\u001b[0;34m\u001b[0m\u001b[0m\n\u001b[1;32m      5\u001b[0m \u001b[0my\u001b[0m \u001b[0;34m=\u001b[0m \u001b[0mnp\u001b[0m\u001b[0;34m.\u001b[0m\u001b[0marray\u001b[0m\u001b[0;34m(\u001b[0m\u001b[0my\u001b[0m\u001b[0;34m)\u001b[0m\u001b[0;34m\u001b[0m\u001b[0;34m\u001b[0m\u001b[0m\n",
      "\u001b[0;31mNameError\u001b[0m: name 'df' is not defined"
     ]
    }
   ],
   "source": [
    "x = process_img(df['fn'][0:1000])\n",
    "y = df['number'][0:1000]\n",
    "\n",
    "x = np.array(x)\n",
    "y = np.array(y)"
   ]
  },
  {
   "cell_type": "code",
   "execution_count": null,
   "metadata": {},
   "outputs": [],
   "source": [
    "x.shape \n",
    "# (img_number,rows,coloumns,layers)"
   ]
  },
  {
   "cell_type": "code",
   "execution_count": null,
   "metadata": {},
   "outputs": [],
   "source": [
    "y.shape\n",
    "# Value 1,2,3,4 of the img orientation"
   ]
  },
  {
   "cell_type": "code",
   "execution_count": null,
   "metadata": {},
   "outputs": [],
   "source": [
    "## Separating datas with Sklearn"
   ]
  },
  {
   "cell_type": "code",
   "execution_count": null,
   "metadata": {},
   "outputs": [],
   "source": [
    "from sklearn.model_selection import train_test_split"
   ]
  },
  {
   "cell_type": "code",
   "execution_count": null,
   "metadata": {},
   "outputs": [],
   "source": [
    "x_train, x_test, y_train, y_test = train_test_split(\n",
    "    x,\n",
    "    y,\n",
    "    test_size=0.20,#20% reserved to test\n",
    "    random_state =2\n",
    ")"
   ]
  },
  {
   "cell_type": "code",
   "execution_count": null,
   "metadata": {},
   "outputs": [],
   "source": [
    "del x\n",
    "del y\n",
    "del df\n",
    "gc.collect()"
   ]
  },
  {
   "cell_type": "code",
   "execution_count": null,
   "metadata": {},
   "outputs": [],
   "source": [
    "x_train.shape,y_train.shape"
   ]
  },
  {
   "cell_type": "code",
   "execution_count": null,
   "metadata": {},
   "outputs": [],
   "source": [
    "# 1 imagem \n",
    "x_train[0].shape\n",
    "# vou usar no INPUT_SHAPE"
   ]
  },
  {
   "cell_type": "markdown",
   "metadata": {},
   "source": [
    "## Starting Training"
   ]
  },
  {
   "cell_type": "code",
   "execution_count": null,
   "metadata": {},
   "outputs": [],
   "source": [
    "from keras import(\n",
    "    layers, # Convolutional Layer\n",
    "    models, # Sequential\n",
    "    optimizers # Adams\n",
    ")\n",
    "\n",
    "from keras.preprocessing.image import ImageDataGenerator"
   ]
  },
  {
   "cell_type": "code",
   "execution_count": null,
   "metadata": {},
   "outputs": [],
   "source": [
    "def create_model():\n",
    "\n",
    "    model = models.Sequential()\n",
    "    model.add(layers.Conv2D(\n",
    "        filters=32,\n",
    "        kernel_size=(3,3),\n",
    "        activation=\"relu\",\n",
    "        input_shape = (x_train[0].shape)\n",
    "    ))\n",
    "    model.add(layers.MaxPooling2D((2,2)))\n",
    "    model.add(layers.Conv2D(64,(3,3),activation = 'relu'))\n",
    "    model.add(layers.MaxPooling2D((2,2)))\n",
    "    model.add(layers.Conv2D(128,(3,3),activation = 'relu'))\n",
    "    model.add(layers.MaxPooling2D((2,2)))\n",
    "    model.add(layers.Conv2D(128,(3,3),activation = 'relu'))\n",
    "    model.add(layers.MaxPooling2D((2,2)))\n",
    "    model.add(layers.Flatten()) #Convert matrix to array (input data)\n",
    "    model.add(layers.Dropout(0.5))\n",
    "    model.add(layers.Dense(64,activation = 'relu'))\n",
    "    model.add(layers.Dense(4, activation = 'softmax'))# we will use 'softmax' because 4 position possibilities\n",
    "    \n",
    "    return model\n"
   ]
  },
  {
   "cell_type": "code",
   "execution_count": null,
   "metadata": {
    "scrolled": true
   },
   "outputs": [],
   "source": [
    "model = create_model()\n",
    "model.summary()"
   ]
  },
  {
   "cell_type": "code",
   "execution_count": null,
   "metadata": {},
   "outputs": [],
   "source": [
    "#parameters to the model\n",
    "model.compile(\n",
    "    loss = 'sparse_categorical_crossentropy',\n",
    "    optimizer = \"Adam\",\n",
    "    metrics = ['accuracy']\n",
    ")"
   ]
  },
  {
   "cell_type": "code",
   "execution_count": null,
   "metadata": {},
   "outputs": [],
   "source": [
    "#Length\n",
    "ntrain = len(x_train)\n",
    "ntest = len(x_test)\n",
    "\n",
    "#2^n...2..4..8..16..32..64..\n",
    "batch_size =128\n",
    "\n",
    "ntrain,ntest"
   ]
  },
  {
   "cell_type": "code",
   "execution_count": null,
   "metadata": {},
   "outputs": [],
   "source": [
    "def gerador(X_train,X_test,y_train,y_test):\n",
    "    # Normalizate the image [between 0 and 255] to [between 0 and 1]\n",
    "    train_datagen = ImageDataGenerator(\n",
    "        rescale = 1./255,\n",
    "        rotation_range = 0,\n",
    "        width_shift_range = 0.2,\n",
    "        height_shift_range= 0.2,\n",
    "        shear_range= 0.2,\n",
    "        zoom_range= 0.2,\n",
    "        horizontal_flip=True,\n",
    "    )\n",
    "\n",
    "    test_datagen = ImageDataGenerator(rescale = 1./255) #Rescale\n",
    "    \n",
    "    # Create the image generators\n",
    "    train_generator = train_datagen.flow(x_train,y_train,batch_size = batch_size)\n",
    "    val_generator = test_datagen.flow(x_test,y_test,batch_size = batch_size)\n",
    "    \n",
    "    return train_generator, val_generator\n",
    "\n",
    "\n",
    "train_generator,test_generator = gerador(x_train,x_test,y_train,y_test)"
   ]
  },
  {
   "cell_type": "code",
   "execution_count": 43,
   "metadata": {},
   "outputs": [],
   "source": [
    "def train(epoch):\n",
    "    history = model.fit_generator(\n",
    "    train_generator,\n",
    "    steps_per_epoch = ntrain // batch_size,\n",
    "    epochs = epoch,\n",
    "    validation_data = test_generator,\n",
    "    validation_steps = ntest // batch_size\n",
    "    )\n",
    "    \n",
    "    return history"
   ]
  },
  {
   "cell_type": "code",
   "execution_count": 44,
   "metadata": {
    "scrolled": false
   },
   "outputs": [
    {
     "name": "stdout",
     "output_type": "stream",
     "text": [
      "Epoch 1/40\n",
      "3/3 [==============================] - 2s 708ms/step - loss: 1.3517 - accuracy: 0.3568 - val_loss: 1.3264 - val_accuracy: 0.3900\n",
      "Epoch 2/40\n",
      "3/3 [==============================] - 2s 565ms/step - loss: 1.3204 - accuracy: 0.3787 - val_loss: 1.3245 - val_accuracy: 0.3400\n",
      "Epoch 3/40\n",
      "3/3 [==============================] - 2s 549ms/step - loss: 1.3760 - accuracy: 0.3346 - val_loss: 1.3185 - val_accuracy: 0.3800\n",
      "Epoch 4/40\n",
      "3/3 [==============================] - 1s 471ms/step - loss: 1.3812 - accuracy: 0.3419 - val_loss: 1.3255 - val_accuracy: 0.3500\n",
      "Epoch 5/40\n",
      "3/3 [==============================] - 1s 480ms/step - loss: 1.3550 - accuracy: 0.3640 - val_loss: 1.3325 - val_accuracy: 0.3500\n",
      "Epoch 6/40\n",
      "3/3 [==============================] - 2s 680ms/step - loss: 1.3630 - accuracy: 0.3359 - val_loss: 1.3369 - val_accuracy: 0.3300\n",
      "Epoch 7/40\n",
      "3/3 [==============================] - 2s 623ms/step - loss: 1.3118 - accuracy: 0.3971 - val_loss: 1.3356 - val_accuracy: 0.3500\n",
      "Epoch 8/40\n",
      "3/3 [==============================] - 2s 542ms/step - loss: 1.3967 - accuracy: 0.3272 - val_loss: 1.3331 - val_accuracy: 0.3500\n",
      "Epoch 9/40\n",
      "3/3 [==============================] - 2s 586ms/step - loss: 1.3501 - accuracy: 0.3493 - val_loss: 1.3272 - val_accuracy: 0.3400\n",
      "Epoch 10/40\n",
      "3/3 [==============================] - 2s 515ms/step - loss: 1.3366 - accuracy: 0.3640 - val_loss: 1.3322 - val_accuracy: 0.3500\n",
      "Epoch 11/40\n",
      "3/3 [==============================] - 2s 730ms/step - loss: 1.3432 - accuracy: 0.3932 - val_loss: 1.3369 - val_accuracy: 0.3400\n",
      "Epoch 12/40\n",
      "3/3 [==============================] - 2s 581ms/step - loss: 1.3317 - accuracy: 0.3676 - val_loss: 1.3406 - val_accuracy: 0.3600\n",
      "Epoch 13/40\n",
      "3/3 [==============================] - 2s 565ms/step - loss: 1.3155 - accuracy: 0.3640 - val_loss: 1.3372 - val_accuracy: 0.3600\n",
      "Epoch 14/40\n",
      "3/3 [==============================] - 2s 604ms/step - loss: 1.3466 - accuracy: 0.3419 - val_loss: 1.3266 - val_accuracy: 0.3700\n",
      "Epoch 15/40\n",
      "3/3 [==============================] - 2s 565ms/step - loss: 1.3803 - accuracy: 0.3125 - val_loss: 1.3175 - val_accuracy: 0.4200\n",
      "Epoch 16/40\n",
      "3/3 [==============================] - 2s 653ms/step - loss: 1.3249 - accuracy: 0.3802 - val_loss: 1.3146 - val_accuracy: 0.4000\n",
      "Epoch 17/40\n",
      "3/3 [==============================] - 2s 654ms/step - loss: 1.3244 - accuracy: 0.4089 - val_loss: 1.3092 - val_accuracy: 0.3900\n",
      "Epoch 18/40\n",
      "3/3 [==============================] - 1s 388ms/step - loss: 1.3566 - accuracy: 0.3750 - val_loss: 1.3055 - val_accuracy: 0.4100\n",
      "Epoch 19/40\n",
      "3/3 [==============================] - 2s 686ms/step - loss: 1.3430 - accuracy: 0.3464 - val_loss: 1.3095 - val_accuracy: 0.3400\n",
      "Epoch 20/40\n",
      "3/3 [==============================] - 2s 687ms/step - loss: 1.3828 - accuracy: 0.3566 - val_loss: 1.3015 - val_accuracy: 0.4200\n",
      "Epoch 21/40\n",
      "3/3 [==============================] - 1s 471ms/step - loss: 1.3493 - accuracy: 0.3493 - val_loss: 1.3085 - val_accuracy: 0.4300\n",
      "Epoch 22/40\n",
      "3/3 [==============================] - 2s 680ms/step - loss: 1.3371 - accuracy: 0.3594 - val_loss: 1.3198 - val_accuracy: 0.4100\n",
      "Epoch 23/40\n",
      "3/3 [==============================] - 2s 547ms/step - loss: 1.3239 - accuracy: 0.3603 - val_loss: 1.3205 - val_accuracy: 0.3900\n",
      "Epoch 24/40\n",
      "3/3 [==============================] - 2s 533ms/step - loss: 1.3386 - accuracy: 0.3088 - val_loss: 1.3119 - val_accuracy: 0.4000\n",
      "Epoch 25/40\n",
      "3/3 [==============================] - 2s 531ms/step - loss: 1.3296 - accuracy: 0.3419 - val_loss: 1.3040 - val_accuracy: 0.4000\n",
      "Epoch 26/40\n",
      "3/3 [==============================] - 2s 699ms/step - loss: 1.3313 - accuracy: 0.3698 - val_loss: 1.2976 - val_accuracy: 0.4000\n",
      "Epoch 27/40\n",
      "3/3 [==============================] - 1s 362ms/step - loss: 1.3362 - accuracy: 0.3688 - val_loss: 1.3281 - val_accuracy: 0.3400\n",
      "Epoch 28/40\n",
      "3/3 [==============================] - 2s 685ms/step - loss: 1.3383 - accuracy: 0.3698 - val_loss: 1.3305 - val_accuracy: 0.3500\n",
      "Epoch 29/40\n",
      "3/3 [==============================] - 2s 660ms/step - loss: 1.3245 - accuracy: 0.3698 - val_loss: 1.3165 - val_accuracy: 0.4400\n",
      "Epoch 30/40\n",
      "3/3 [==============================] - 2s 660ms/step - loss: 1.3550 - accuracy: 0.3640 - val_loss: 1.3148 - val_accuracy: 0.4100\n",
      "Epoch 31/40\n",
      "3/3 [==============================] - 2s 638ms/step - loss: 1.2911 - accuracy: 0.3934 - val_loss: 1.3075 - val_accuracy: 0.4000\n",
      "Epoch 32/40\n",
      "3/3 [==============================] - 1s 460ms/step - loss: 1.3011 - accuracy: 0.3934 - val_loss: 1.2935 - val_accuracy: 0.4300\n",
      "Epoch 33/40\n",
      "3/3 [==============================] - 1s 447ms/step - loss: 1.2829 - accuracy: 0.3897 - val_loss: 1.2818 - val_accuracy: 0.4000\n",
      "Epoch 34/40\n",
      "3/3 [==============================] - 2s 513ms/step - loss: 1.3417 - accuracy: 0.3897 - val_loss: 1.2796 - val_accuracy: 0.4100\n",
      "Epoch 35/40\n",
      "3/3 [==============================] - 2s 628ms/step - loss: 1.3113 - accuracy: 0.3490 - val_loss: 1.2758 - val_accuracy: 0.4800\n",
      "Epoch 36/40\n",
      "3/3 [==============================] - 1s 457ms/step - loss: 1.3240 - accuracy: 0.3897 - val_loss: 1.2758 - val_accuracy: 0.4600\n",
      "Epoch 37/40\n",
      "3/3 [==============================] - 2s 582ms/step - loss: 1.3084 - accuracy: 0.3932 - val_loss: 1.2658 - val_accuracy: 0.5200\n",
      "Epoch 38/40\n",
      "3/3 [==============================] - 2s 500ms/step - loss: 1.3035 - accuracy: 0.3971 - val_loss: 1.2490 - val_accuracy: 0.4300\n",
      "Epoch 39/40\n",
      "3/3 [==============================] - 1s 478ms/step - loss: 1.2766 - accuracy: 0.4081 - val_loss: 1.2578 - val_accuracy: 0.4100\n",
      "Epoch 40/40\n",
      "3/3 [==============================] - 1s 468ms/step - loss: 1.3140 - accuracy: 0.4154 - val_loss: 1.2561 - val_accuracy: 0.4600\n"
     ]
    }
   ],
   "source": [
    "history = train(40)"
   ]
  },
  {
   "cell_type": "code",
   "execution_count": 45,
   "metadata": {
    "scrolled": true
   },
   "outputs": [
    {
     "data": {
      "image/png": "[encoded data removed]",
      "text/plain": [
       "<matplotlib.figure.Figure at 0x7f0f905f7f60>"
      ]
     },
     "metadata": {
      "needs_background": "light"
     },
     "output_type": "display_data"
    },
    {
     "data": {
      "image/png": "[encoded data removed]",
      "text/plain": [
       "<matplotlib.figure.Figure at 0x7f0f904977b8>"
      ]
     },
     "metadata": {
      "needs_background": "light"
     },
     "output_type": "display_data"
    }
   ],
   "source": [
    "def plotar():\n",
    "    acc = history.history['accuracy']\n",
    "    val_acc = history.history['val_accuracy']\n",
    "    loss = history.history['loss']\n",
    "    val_loss = history.history['val_loss']\n",
    "\n",
    "    epochs = range(1,len(acc)+1)\n",
    "\n",
    "    plt.plot(epochs,acc,'*-b',label = 'Training Accurarcy')\n",
    "    plt.plot(epochs,val_acc,'o-r',label = 'Validation Accurarcy')\n",
    "    plt.title('Training and Valdation Accurarcy')\n",
    "    plt.legend()\n",
    "\n",
    "    plt.figure()\n",
    "    plt.plot(epochs,loss,'*-b',label = 'Training loss')\n",
    "    plt.plot(epochs,val_loss,'o-r',label = 'Validation loss')\n",
    "    plt.title('Training and Validation Accurarcy')\n",
    "    plt.legend()\n",
    "\n",
    "    plt.show()\n",
    "    \n",
    "plotar()"
   ]
  },
  {
   "cell_type": "code",
   "execution_count": null,
   "metadata": {},
   "outputs": [],
   "source": []
  },
  {
   "cell_type": "code",
   "execution_count": null,
   "metadata": {},
   "outputs": [],
   "source": []
  }
 ],
 "metadata": {
  "kernelspec": {
   "display_name": "Python 3",
   "language": "python",
   "name": "python3"
  },
  "language_info": {
   "codemirror_mode": {
    "name": "ipython",
    "version": 3
   },
   "file_extension": ".py",
   "mimetype": "text/x-python",
   "name": "python",
   "nbconvert_exporter": "python",
   "pygments_lexer": "ipython3",
   "version": "3.6.9"
  }
 },
 "nbformat": 4,
 "nbformat_minor": 2
}
