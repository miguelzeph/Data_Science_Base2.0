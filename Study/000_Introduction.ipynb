{
 "cells": [
  {
   "cell_type": "markdown",
   "metadata": {},
   "source": [
    "> ### Miguel Angelo do Amaral Junior\n",
    "\n",
    "# Jupyter Tips\n",
    "\n",
    "### Tip 1 - Shortcut Key\n",
    "\n",
    "b => new cell above\n",
    "x => cut cell\n",
    "ctrl+enter => run\n",
    "shift+tab => can see the func documentation\n",
    "\n",
    "font:https://www.dataquest.io/blog/jupyter-notebook-tips-tricks-shortcuts/\n",
    "\n",
    "### Tip 2 - pwd command (linux)\n",
    "\n",
    "It's useful to know if are you using correct python in jupyter.\n",
    "\n",
    "###  Tip 3 - sys.version (python)\n",
    "Make sure you are using the correct python\n",
    "\n",
    "### Tip 4 - Linux terminal in jupyter\n",
    "put always the exclamation (!) in the begnning \n",
    "\n",
    "ex: !pip3.6 list| grep numpy\n",
    "\n",
    "Or you can use the magic command %%bash, all inside the cell gonna be for the painel\n",
    "\n",
    "### Tip 5 - You can remove the warnings\n",
    "import warnings\n",
    "warnings.filterwarnings('ignore')\n",
    "\n",
    "### Tip 6 - Markdown type\n",
    "\n",
    "**bold**\n",
    "\n",
    "- List\n",
    "\n",
    "`highlight`\n",
    "\n",
    "### Tip 7 - Hidden the print\n",
    "put `;` in the end\n",
    "\n",
    "Exemple:\n",
    "print('oi')`;`\n"
   ]
  },
  {
   "cell_type": "code",
   "execution_count": 1,
   "metadata": {},
   "outputs": [
    {
     "name": "stdout",
     "output_type": "stream",
     "text": [
      "/home/miguel/Apps_Data_Science_2021/Jupyter_Data_Science\r\n"
     ]
    }
   ],
   "source": [
    "# Tip 2\n",
    "!pwd"
   ]
  },
  {
   "cell_type": "code",
   "execution_count": 3,
   "metadata": {},
   "outputs": [
    {
     "name": "stdout",
     "output_type": "stream",
     "text": [
      "3.6.9 (default, Oct  8 2020, 12:12:24) \n",
      "[GCC 8.4.0]\n"
     ]
    }
   ],
   "source": [
    "# Tip 3\n",
    "import sys\n",
    "print(sys.version)"
   ]
  },
  {
   "cell_type": "code",
   "execution_count": 10,
   "metadata": {
    "scrolled": false
   },
   "outputs": [
    {
     "name": "stdout",
     "output_type": "stream",
     "text": [
      "ipykernel                5.2.1\r\n",
      "ipython                  7.3.0\r\n",
      "ipython-genutils         0.2.0\r\n",
      "ipywidgets               7.4.2\r\n",
      "scipy                    1.4.1\r\n"
     ]
    }
   ],
   "source": [
    "# Tip 4\n",
    "!pip3.6 list | grep ipy"
   ]
  },
  {
   "cell_type": "code",
   "execution_count": 11,
   "metadata": {},
   "outputs": [
    {
     "data": {
      "text/plain": [
       "['ipykernel                5.2.1',\n",
       " 'ipython                  7.3.0',\n",
       " 'ipython-genutils         0.2.0',\n",
       " 'ipywidgets               7.4.2',\n",
       " 'scipy                    1.4.1']"
      ]
     },
     "execution_count": 11,
     "metadata": {},
     "output_type": "execute_result"
    }
   ],
   "source": [
    "# We can add in a variable\n",
    "a = !pip3.6 list | grep ipy\n",
    "a"
   ]
  },
  {
   "cell_type": "code",
   "execution_count": 12,
   "metadata": {
    "scrolled": true
   },
   "outputs": [
    {
     "data": {
      "text/plain": [
       "['ipykernel5.2.1',\n",
       " 'ipython7.3.0',\n",
       " 'ipython-genutils0.2.0',\n",
       " 'ipywidgets7.4.2',\n",
       " 'scipy1.4.1']"
      ]
     },
     "execution_count": 12,
     "metadata": {},
     "output_type": "execute_result"
    }
   ],
   "source": [
    "# We can Manipulate this values...\n",
    "# for exemplo, removing the spaces\n",
    "[n.replace(' ','') for n in a]"
   ]
  },
  {
   "cell_type": "code",
   "execution_count": 16,
   "metadata": {},
   "outputs": [
    {
     "name": "stdout",
     "output_type": "stream",
     "text": [
      "['000_Introduction.ipynb']\n"
     ]
    }
   ],
   "source": [
    "# Other exemple: File in the directory\n",
    "list_ls = !ls\n",
    "\n",
    "for l in [list_ls]:\n",
    "    print(l)"
   ]
  },
  {
   "cell_type": "code",
   "execution_count": 17,
   "metadata": {},
   "outputs": [
    {
     "data": {
      "text/plain": [
       "'\\n!cd ./dados_panda/\\n\\ndados = !ls\\n\\ndados[1]\\n'"
      ]
     },
     "execution_count": 17,
     "metadata": {},
     "output_type": "execute_result"
    }
   ],
   "source": [
    "# Other exemplo : getting file inside the folder\n",
    "\n",
    "\"\"\"\n",
    "!cd ./dados_panda/\n",
    "\n",
    "dados = !ls\n",
    "\n",
    "dados[1]\n",
    "\"\"\""
   ]
  },
  {
   "cell_type": "code",
   "execution_count": 21,
   "metadata": {},
   "outputs": [
    {
     "data": {
      "text/plain": [
       "['000_Introduction.ipynb']"
      ]
     },
     "execution_count": 21,
     "metadata": {},
     "output_type": "execute_result"
    }
   ],
   "source": [
    "# Using bash\n",
    "lista = !ls \n",
    "file = [add for add in lista if add[-6:] == '.ipynb']\n",
    "file"
   ]
  },
  {
   "cell_type": "code",
   "execution_count": 23,
   "metadata": {},
   "outputs": [
    {
     "name": "stdout",
     "output_type": "stream",
     "text": [
      "000_Introduction.ipynb\n"
     ]
    }
   ],
   "source": [
    "# without linux\n",
    "import os\n",
    "lista = os.listdir()\n",
    "for l in lista:\n",
    "    if l[-6:]=='.ipynb':\n",
    "        print(l)"
   ]
  },
  {
   "cell_type": "code",
   "execution_count": 34,
   "metadata": {},
   "outputs": [
    {
     "data": {
      "text/plain": [
       "['./.git/config:\\turl = git@github.com:miguelzeph/Jupyter_Data_Science.git',\n",
       " './.ipynb_checkpoints/000_Introduction-checkpoint.ipynb:    \"### Miguel Angelo do Amaral Junior\\\\n\",',\n",
       " './000_Introduction.ipynb:    \"> ### Miguel Angelo do Amaral Junior\\\\n\",',\n",
       " './000_Introduction.ipynb:      \"/home/miguel/Apps_Data_Science_2021/Jupyter_Data_Science\\\\r\\\\n\"',\n",
       " './000_Introduction.ipynb:       \"\\'./.git/config:\\\\\\\\turl = git@github.com:miguelzeph/Jupyter_Data_Science.git\\'\"',\n",
       " './000_Introduction.ipynb:    \"seeking = !grep -R -i \\'Miguel\\' ./\\\\n\",']"
      ]
     },
     "execution_count": 34,
     "metadata": {},
     "output_type": "execute_result"
    }
   ],
   "source": [
    "# Other exemplo: looking for name inside de file\n",
    "\n",
    "seeking = !grep -R -i 'Miguel' ./\n",
    "# add the\n",
    "seeking"
   ]
  }
 ],
 "metadata": {
  "kernelspec": {
   "display_name": "Python 3",
   "language": "python",
   "name": "python3"
  },
  "language_info": {
   "codemirror_mode": {
    "name": "ipython",
    "version": 3
   },
   "file_extension": ".py",
   "mimetype": "text/x-python",
   "name": "python",
   "nbconvert_exporter": "python",
   "pygments_lexer": "ipython3",
   "version": "3.6.9"
  }
 },
 "nbformat": 4,
 "nbformat_minor": 2
}
